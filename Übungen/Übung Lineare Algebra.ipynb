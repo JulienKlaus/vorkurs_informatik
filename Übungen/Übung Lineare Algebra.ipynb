{
 "cells": [
  {
   "cell_type": "markdown",
   "metadata": {},
   "source": [
    "# Übung Lineare Algebra\n",
    "## Aufgabe 1 \n",
    "Lässt sich $\\begin{pmatrix} -1 \\\\ 2 \\end{pmatrix}$ als Linearkombination von $\\begin{pmatrix} 1 \\\\ 0 \\end{pmatrix}$ und $\\begin{pmatrix} 0 \\\\ 1\\end{pmatrix}$ darstellen?\n",
    " \t\n",
    "## Aufgabe 2\n",
    "Sind die Vektoren $\\begin{pmatrix} 3\\\\0\\\\2\\end{pmatrix}$, $\\begin{pmatrix} 5\\\\2\\\\0\\end{pmatrix}$, $\\begin{pmatrix} 7\\\\-2\\\\1\\end{pmatrix}$ und $\\begin{pmatrix} 8\\\\0\\\\0\\end{pmatrix}\\in\\mathbb{R}^3$ linear unabhängig?\n",
    " \t\n",
    "## Aufgabe 3\n",
    "Berechnen Sie für a = $\\begin{pmatrix} 2\\\\4\\\\-3\\end{pmatrix}$, b = $\\begin{pmatrix} -1\\\\5\\\\0\\end{pmatrix}\\in\\mathbb{R}^3$ folgende Ausdrücke.\n",
    " 1. $a+b$,\n",
    " 2. $2a$,\n",
    " 3. $-a$,\n",
    " 4. $a+\\frac{3}{5}b$.\n",
    " \t\n",
    "## Aufgabe 4\n",
    "Gegeben sind folgende Gleichungen\n",
    " 1. $x+3z+t = 15$, \n",
    " 2. $3y+7z-t=32$, \n",
    " 3. $-2x+y+4z=23$ und \n",
    " 4. $x+5y-3z-4t=-19$. \n",
    " \n",
    "Nutzen Sie den Gauß-Algorithmus um eine Lösung für $x,y,z,t$ zu finden.\n",
    "\n",
    "## Aufgabe 5\n",
    "Sei $a = \\begin{pmatrix} 1 \\\\ 2\\\\ 3 \\end{pmatrix}$ und $b = \\begin{pmatrix} 3\\\\4\\\\5\\end{pmatrix}$. Berechnen Sie \n",
    " 1. $a+b$,\n",
    " 2. $\\Vert a\\Vert$,\n",
    " 3. $\\Vert b-a\\Vert$ und\n",
    " 4. $<a,b>$.\n",
    " \n",
    "## Aufgabe 6\n",
    "Sei $a = \\begin{pmatrix} 1\\\\2\\\\3                   \\end{pmatrix}$, $b = \\begin{pmatrix} 2\\\\1\\\\1\\end{pmatrix}$, $c = \\begin{pmatrix} -2\\\\2\\\\4  \\end{pmatrix}$ und $d = \\begin{pmatrix} 1\\\\4\\\\2\\end{pmatrix}$.\n",
    " \n",
    " Sind $a,b$ linear unabhängig? Sind $a,b,c$ linear unabhängig? Kann man $d$ als Linearkombination der Vektoren $a,b,c$ darstellen? Geben Sie eine Basis des $\\mathbb{R}^3$ an. \n",
    " \n",
    "## Aufgabe 7\n",
    "Sei $a = \\begin{pmatrix} 4\\\\2\\\\-3\\end{pmatrix}$ ein Vektor und $A=\\begin{pmatrix} 1&1&2\\\\-3&2& -1\\\\-1&4&5\\end{pmatrix}$ eine Matrix. Berechnen und kontrolliere mit Python.\n",
    " 1. $2\\cdot A$,\n",
    " 2. $A\\cdot a$ und\n",
    " 3. $<-2\\cdot A\\cdot a, a>$\n",
    "\n",
    "## Aufgabe 8\n",
    "Schreiben Sie das Gleichungssystem $2x_1 + 3x_2 + x_3 + x_4 = 4$, $5x_1 - x_2 + 3x_3 - x_4 = 0$, $2x_1 - 4x_4 = 8$, $4x_2 - 4x_3 = 8$ in der Form $Ax = b$ und bringen sie die Matrix $A$ in eine Dreiecksform. Lösen Sie danach mit Hilfe der Python Methode `numpy.linalg.solve`.\n",
    " \n",
    "## Aufgabe 9\n",
    "Berechnen Sie den Rang der Matrix in Python. Lerne dazu wie man eine Matrix in Python einliest und finde die richtige Methode.\n",
    "$$\n",
    " A= \\begin{pmatrix}\n",
    " -150 & -423 & 33 & 99 \\\\ \n",
    " 86 & 820 & 62 & -924 \\\\ \n",
    " -193 & 295 & -13 & -742 \\\\ \n",
    " -112 & 152 & -123 & -147 \\\\ \n",
    " -135 & -160 & -13 & -76\n",
    " \\end{pmatrix}\n",
    "$$"
   ]
  },
  {
   "cell_type": "code",
   "execution_count": 6,
   "metadata": {},
   "outputs": [],
   "source": [
    "# insert code here"
   ]
  }
 ],
 "metadata": {
  "kernelspec": {
   "display_name": "Python 3",
   "language": "python",
   "name": "python3"
  },
  "language_info": {
   "codemirror_mode": {
    "name": "ipython",
    "version": 3
   },
   "file_extension": ".py",
   "mimetype": "text/x-python",
   "name": "python",
   "nbconvert_exporter": "python",
   "pygments_lexer": "ipython3",
   "version": "3.7.3"
  }
 },
 "nbformat": 4,
 "nbformat_minor": 4
}
