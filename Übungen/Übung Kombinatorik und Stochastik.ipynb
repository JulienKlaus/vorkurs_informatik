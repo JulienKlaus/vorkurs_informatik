{
 "cells": [
  {
   "cell_type": "markdown",
   "metadata": {},
   "source": [
    "# Übung Kombinatorik und Stochastik\n",
    "\n",
    "## Aufgabe 1\n",
    "Personen $a,b,c,d$ sollen auf einer Konferenz einen Vortrag halten. Wie viele verschiedene Reihenfolgen der Redner sind möglich, wenn\n",
    " 1. es keine Einschränkungen gibt,\n",
    " 2. a jedenfalls zuerst sprechen soll oder\n",
    " 3. d nicht an letzter Stelle sprechen soll.\n",
    " \t\n",
    "# Aufgabe 2\n",
    "Ein Multiple-Choice Test besteht aus vier Fragen, bei jeder Frage stehen drei Antworten zur Auswahl. Nur eine davon ist richtig. Wie groß ist die Wahrscheinlichkeit, durch zufälliges Raten\n",
    " 1. alle vier Fragen,\n",
    " 2. nur eine Frage richtig zu beantworten?\n",
    "\n",
    "## Aufgabe 3 \n",
    "Wie viele Initialien gibt es aus Vor-, Mittel- und Nachname?\n",
    "  \n",
    "## Aufgabe 4\n",
    "Andreas feiert Geburtstag und lädt dazu acht Personen ein. Alle geben sich gegenseitig die Hand. Wie oft wurde die Hand gereicht.\n",
    "  \n",
    "## Aufgabe 5 \n",
    "Beim Lotto 6aus49 werden 6 Kugeln aus einer Menge von 49 Kugeln gezogen. Wie viele Möglichkeiten gibt es, die 6 Kugeln zu ziehen? Diese werden nicht zurückgelegt. Wie lautet die Wahrscheinlichkeit dafür, von den 6 ausgewählten Kugeln 4 richtig zu haben?\n",
    "  \n",
    "## Aufgabe 6 \n",
    "Wie viele Möglichkeiten gibt es für die Sitzordnung von fünf Personen in einem PKW, wenn nur drei davon einen Führerschein besitzen.\n",
    "  \n",
    "## Aufgabe 7 \n",
    "Angenommen wir haben fünf Personen, darunter einen Mann. Wie viele Möglichkeiten gibt es, diese fünf Personen für ein Foto aufzustellen? Angenommen der Mann soll immer in der Mitte stehen. Wie viele Möglichkeiten gibt es dafür?\n",
    "  \n",
    "## Aufgabe 8 \n",
    "Ein Passwort soll genau zehn Stellen haben. Die Stellen können aus folgenden Zeichen bestehen: Klein-, Großbuchstaben sowie Ziffern und jedes soll genau eines von zehn Sonderzeichen enthalten. Wie viele verschiedene Passwörter gibt es.\n",
    "  \n",
    "## Aufgabe 9 \n",
    "Berechnen Sie die Wahrscheinlichkeit für folgende Ereignisse mit zwei fairen Würfeln. Tuen Sie dies mit Hilfe eines Laplace Experimentes und Python.\n",
    " 1. Es wird genau eine 4 gewürfelt,\n",
    " 2. es wird eine als Summe 7 gewürfelt,\n",
    " 3. es wird eine 3 oder eine 5 gewürfelt und\n",
    " 4. es wird eine ungerade Augenzahl gewürfelt.\n",
    "  \n",
    "## Aufgabe 10\n",
    "Ein Bluttest für Krebs hat folgende Eigenschaften:\n",
    " 1. $p(\\text{Testergebnis ist positiv}\\vert\\text{Person hat Krebs}) = 0.98$,\n",
    " 2. $p(\\text{Testergebnis ist negativ}\\vert\\text{Person hat keinen Krebs}) = 0.97$,\n",
    " 3. $p(\\text{Person hat Krebs}) = 0.01$.\n",
    " \n",
    "Berechne die folgenden Wahrscheinlichkeiten\n",
    " 1. $p(\\text{Person hat keinen Krebs})$,\n",
    " 2. $p(\\text{Testergebnis ist positiv}\\vert\\text{Person hat keinen Krebs})$,\n",
    " 3. $p(\\text{Testergebnis ist negativ}\\vert\\text{Person hat Krebs})$,\n",
    " 4. $p(\\text{Person hat keinen Krebs}\\vert\\text{Testergebnis ist positiv})$?\n",
    " \n",
    " Wie kann man 1, 2, 3 in Python berechnen? "
   ]
  },
  {
   "cell_type": "code",
   "execution_count": null,
   "metadata": {},
   "outputs": [],
   "source": [
    "# insert code here"
   ]
  }
 ],
 "metadata": {
  "kernelspec": {
   "display_name": "Python 3",
   "language": "python",
   "name": "python3"
  },
  "language_info": {
   "codemirror_mode": {
    "name": "ipython",
    "version": 3
   },
   "file_extension": ".py",
   "mimetype": "text/x-python",
   "name": "python",
   "nbconvert_exporter": "python",
   "pygments_lexer": "ipython3",
   "version": "3.7.3"
  }
 },
 "nbformat": 4,
 "nbformat_minor": 4
}
