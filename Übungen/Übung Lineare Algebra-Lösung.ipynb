{
 "cells": [
  {
   "cell_type": "markdown",
   "metadata": {},
   "source": [
    "# Übung Lineare Algebra\n",
    "\n",
    "## Aufgabe 1 \n",
    "Lässt sich $\\begin{pmatrix} -1 \\\\ 2 \\end{pmatrix}$ als Linearkombination von $\\begin{pmatrix} 1 \\\\ 0 \\end{pmatrix}$ und $\\begin{pmatrix} 0 \\\\ 1\\end{pmatrix}$ darstellen?\n",
    " \n",
    "Ja, mit den Konstanten $-1$ und $2$ als\n",
    " $$\n",
    "  \\begin{pmatrix} -1\\\\2\\end{pmatrix} = -1\\begin{pmatrix}1\\\\0\\end{pmatrix} + 2\\begin{pmatrix}0\\\\1\\end{pmatrix}.\n",
    " $$\n"
   ]
  },
  {
   "cell_type": "markdown",
   "metadata": {},
   "source": [
    "## Aufgabe 2\n",
    "Sind die Vektoren $\\begin{pmatrix} 3\\\\0\\\\2\\end{pmatrix}$, $\\begin{pmatrix} 5\\\\2\\\\0\\end{pmatrix}$, $\\begin{pmatrix} 7\\\\-2\\\\1\\end{pmatrix}$ und $\\begin{pmatrix} 8\\\\0\\\\0\\end{pmatrix}\\in\\mathbb{R}^3$ linear unabhängig?\n",
    "\n",
    "Wir müssen dazu testen, ob \n",
    "\n",
    " $$\n",
    "  a\\begin{pmatrix} 3\\\\0\\\\2\\end{pmatrix} + b\\begin{pmatrix} 5\\\\2\\\\0\\end{pmatrix} + c\\begin{pmatrix} 7\\\\-2\\\\1\\end{pmatrix} + d\\begin{pmatrix} 8\\\\0\\\\0\\end{pmatrix}=\\begin{pmatrix}0\\\\0\\\\0\\end{pmatrix}\n",
    " $$\n",
    " \n",
    " gilt. Das Umstellen dieser Gleichungen liefert uns $b=-2a$, $c=-2a$, $d=\\frac{21}{8}a$. Wir können also eine beliebige Zahl für $a$ einsetzen, damit $b,c,d$ berechnen und die Gleichung lösen. Da die Lösung für $a=b=c=d=0$ nicht die einzige Lösung ist, sind die Vektoren nicht linear unabhängig."
   ]
  },
  {
   "cell_type": "markdown",
   "metadata": {},
   "source": [
    "## Aufgabe 3\n",
    "Berechnen Sie für a = $\\begin{pmatrix} 2\\\\4\\\\-3\\end{pmatrix}$, b = $\\begin{pmatrix} -1\\\\5\\\\0\\end{pmatrix}\\in\\mathbb{R}^3$ folgende Ausdrücke.\n",
    " 1. $a+b = \\begin{pmatrix}2+-1\\\\4+5\\\\-3+0\\end{pmatrix} = \\begin{pmatrix} 1\\\\9\\\\-3\\end{pmatrix}$,\n",
    " 2. $2a = \\begin{pmatrix}2\\cdot 2\\\\2\\cdot 4\\\\2\\cdot -3\\end{pmatrix} = \\begin{pmatrix}4\\\\8\\\\-6\\end{pmatrix}$,\n",
    " 3. $-a  = \\begin{pmatrix}-2\\\\-4\\\\3\\end{pmatrix}$,\n",
    " 4. $a+\\frac{3}{5}b = \\begin{pmatrix} 2+\\frac{3}{5}\\cdot -1\\\\4+\\frac{3}{5}\\cdot 5\\\\-3+\\frac{3}{5}\\cdot 0\\end{pmatrix}= \\begin{pmatrix}\\frac{7}{5}\\\\7\\\\-3\\end{pmatrix}$."
   ]
  },
  {
   "cell_type": "markdown",
   "metadata": {},
   "source": [
    "## Aufgabe 4\n",
    "Gegeben sind folgende Gleichungen\n",
    " 1. $x+3z+t = 15$, \n",
    " 2. $3y+7z-t=32$, \n",
    " 3. $-2x+y+4z=23$ und \n",
    " 4. $x+5y-3z-4t=-19$. \n",
    " \n",
    "Nutzen Sie den Gauß-Algorithmus um eine Lösung für $x,y,z,t$ zu finden.\n",
    "\n",
    "### Lösung\n",
    " \n",
    " Hierzu bringen wir die Gleichungen zuerst in die Form $Ax=b$:\n",
    " \n",
    " $$\n",
    "  \\begin{pmatrix} 1 & 0 & 3 & 1\\\\ 0 & 3 & 7 & -1 \\\\ -2 & 1 & 4 & 0 \\\\ 1 & 5 & -3 & -4 \\end{pmatrix} \\begin{pmatrix} x\\\\y\\\\z\\\\t\\end{pmatrix} = \\begin{pmatrix} 15\\\\32\\\\23\\\\-19 \\end{pmatrix}.\n",
    " $$\n",
    " \n",
    " Nun müssen wir aus der vorderen Matrix eine untere Dreiecksmatrix erzeugen. Zuerst erzeugen wir in der ersten Spalte Nullen und erhalten damit\n",
    " \n",
    " $$\n",
    "  \\begin{pmatrix} 1 & 0 & 3 & 1\\\\ 0 & 3 & 7 & -1 \\\\ 0 & 1 & 10 & 2 \\\\ 0 & 5 & -6 & -5 \\end{pmatrix} \\begin{pmatrix} x\\\\y\\\\z\\\\t\\end{pmatrix} = \\begin{pmatrix} 15\\\\32\\\\53\\\\-34 \\end{pmatrix}.\n",
    " $$\n",
    " \n",
    " Nun tauschen wir die $3.$ und $2.$ Zeile und erzeugen in der $2.$ Spalte Nullen. Dadurch erhalten wir\n",
    " \n",
    " $$\n",
    "  \\begin{pmatrix} 1 & 0 & 3 & 1\\\\ 0 & 1 & 10 & 2 \\\\ 0 & 0 & -23 & -7 \\\\ 0 & 0 & -56 & -15 \\end{pmatrix} \\begin{pmatrix} x\\\\y\\\\z\\\\t\\end{pmatrix} = \\begin{pmatrix} 15\\\\32\\\\-127\\\\-299 \\end{pmatrix}.\n",
    " $$\n",
    " \n",
    " Nun müssen wir nur noch in der letzten Zeile eine Null erzeugen und haben eine untere Dreiecksform:\n",
    " \n",
    " $$\n",
    "  \\begin{pmatrix} 1 & 0 & 3 & 1\\\\ 0 & 1 & 10 & 2 \\\\ 0 & 0 & -23 & -7 \\\\ 0 & 0 & 0 & \\frac{47}{23} \\end{pmatrix} \\begin{pmatrix} x\\\\y\\\\z\\\\t\\end{pmatrix} = \\begin{pmatrix} 15\\\\32\\\\-127\\\\\\frac{235}{23} \\end{pmatrix}.\n",
    " $$\n",
    " \n",
    " Hier können wir nun einfach die Lösungen $t=5$, $z=4$, $y=3$ und $x=-2$ ablesen. Die Probe liefert\n",
    " \n",
    " $$\n",
    "  \\begin{pmatrix} 1 & 0 & 3 & 1\\\\ 0 & 3 & 7 & -1 \\\\ -2 & 1 & 4 & 0 \\\\ 1 & 5 & -3 & -4 \\end{pmatrix} \\begin{pmatrix} -2\\\\3\\\\4\\\\5\\end{pmatrix} = \\begin{pmatrix} 15\\\\32\\\\23\\\\-19 \\end{pmatrix}.\n",
    " $$"
   ]
  },
  {
   "cell_type": "code",
   "execution_count": 1,
   "metadata": {},
   "outputs": [
    {
     "name": "stdout",
     "output_type": "stream",
     "text": [
      "[-2.  3.  4.  5.]\n",
      "[1.77635684e-15 7.10542736e-15 0.00000000e+00 3.55271368e-15]\n"
     ]
    }
   ],
   "source": [
    "import numpy as np\n",
    "\n",
    "# Anlegen der beiden Matrizen\n",
    "xyzt = np.array([[1,0,3,1],[0,3,7,-1],[-2,1,4,0],[1,5,-3,-4]])\n",
    "r = np.array([15,32,23,-19])\n",
    "\n",
    "# lösen des Gleichungssystems\n",
    "s = np.linalg.solve(xyzt, r)\n",
    "\n",
    "# s beeinhaltet die Lösung\n",
    "print(s)\n",
    "\n",
    "# Die Kontrolle liefert uns wie erwartet 0 (beachte die Numerische Ungenauigkeit)\n",
    "print(xyzt.dot(s)-r)"
   ]
  },
  {
   "cell_type": "markdown",
   "metadata": {},
   "source": [
    "## Aufgabe 5\n",
    "Sei $a = \\begin{pmatrix} 1 \\\\ 2\\\\ 3 \\end{pmatrix}$ und $b = \\begin{pmatrix} 3\\\\4\\\\5\\end{pmatrix}$. Berechnen Sie.\n",
    "\n",
    " 1. $a+b = \\begin{pmatrix} 1+3 \\\\ 2+4\\\\ 3+5 \\end{pmatrix} = \\begin{pmatrix} 4 \\\\ 6\\\\ 8 \\end{pmatrix}$\n",
    " \n",
    " 2. $\\Vert a\\Vert = \\sqrt{1^2+2^2+3^2}$\n",
    " \n",
    " 3. $\\Vert b-a\\Vert = \\sqrt{(3-1)^2+(4-2)^2+(5-3)^2} = \\sqrt{3\\cdot 2^2} = \\sqrt {12}$ \n",
    " \n",
    " 4. $<a,b> = 1\\cdot 3+2\\cdot 4+5\\cdot 3= 3+8+15 = 26$"
   ]
  },
  {
   "cell_type": "markdown",
   "metadata": {},
   "source": [
    "## Aufgabe 6\n",
    "Sei $a = \\begin{pmatrix} 1\\\\2\\\\3                   \\end{pmatrix}$, $b = \\begin{pmatrix} 2\\\\1\\\\1\\end{pmatrix}$, $c = \\begin{pmatrix} -2\\\\2\\\\4  \\end{pmatrix}$ und $d = \\begin{pmatrix} 1\\\\4\\\\2\\end{pmatrix}$.\n",
    " \n",
    " Sind $a,b$ linear unabhängig? Sind $a,b,c$ linear unabhängig? Kann man $d$ als Linearkombination der Vektoren $a,b,c$ darstellen? Geben Sie eine Basis des $\\mathbb{R}^3$ an.\n",
    " \n",
    "### Lösung\n",
    "Um zu testen ob $a,b$ linear unabhängig sind müssen wir schauen ob die folgende Gleichung eine eindeutige Lösung ungleich $0$ hat.\n",
    "$$\n",
    "a\\cdot \\begin{pmatrix} 1\\\\2\\\\3 \\end{pmatrix} + b\\cdot \\begin{pmatrix} 2\\\\1\\\\1\\end{pmatrix} = \\begin{pmatrix} 0\\\\0\\\\0\\end{pmatrix}\n",
    "$$\n",
    "\n",
    "Hieraus erhalten wir aus der ersten Zeile $a=-2b$ und aus der zweiten Zeile $a=\\frac{b}{2}$. Wir finden also kein $a,b\\neq 0$ so dass diese Gleichung aufgeht. Somit sind $a,b$ linear unabhängig.\n",
    "\n",
    "Um zu schauen ob $a,b,c$ linear unabhängig sind können wir dies auch über den gleichen Ansatz tun.\n",
    "$$\n",
    "a\\cdot \\begin{pmatrix} 1\\\\2\\\\3 \\end{pmatrix} + b\\cdot \\begin{pmatrix} 2\\\\1\\\\1\\end{pmatrix} + c\\cdot \\begin{pmatrix} -2\\\\2\\\\4  \\end{pmatrix}= \\begin{pmatrix} 0\\\\0\\\\0\\end{pmatrix}\n",
    "$$\n",
    "\n",
    "Wir können dies wie folgt zusammenfassen.\n",
    "$$\n",
    "\\begin{pmatrix} 1 & 2 & -2\\\\2 & 1 & 2\\\\3 & 1 & 4 \\end{pmatrix} \\begin{pmatrix} a\\\\b\\\\c\\end{pmatrix} = \\begin{pmatrix} 0\\\\0\\\\0\\end{pmatrix}\n",
    "$$\n",
    "\n",
    "Nun können wir diese Matrix in die Dreiecksform bringen (siehe Aufgabe 4).\n",
    "$$\n",
    "\\begin{pmatrix} 1 & 2 & -2\\\\0 & -3 & -6\\\\0 & -5 & 10 \\end{pmatrix} \\begin{pmatrix} a\\\\b\\\\c\\end{pmatrix} = \n",
    "\\begin{pmatrix} 0\\\\0\\\\0\\end{pmatrix}\n",
    "\\leftrightarrow\\begin{pmatrix} 1 & 2 & -2\\\\0 & -3 & -6\\\\0 & 0 & 0 \\end{pmatrix} \\begin{pmatrix} a\\\\b\\\\c\\end{pmatrix} = \n",
    "\\begin{pmatrix} 0\\\\0\\\\0\\end{pmatrix}\n",
    "$$\n",
    "\n",
    "Diese Matrix zeigt uns, dass der Rank gleich $2$ ist. Somit sind diese drei Vektoren nicht linear unabhängig. \n",
    "\n",
    "Um zu testen ob $d$ eine Linearkombination von $a,b,c$ ist können wir folgende Gleichung aufstellen.\n",
    "\n",
    "$$\n",
    "a\\cdot \\begin{pmatrix} 1\\\\2\\\\3 \\end{pmatrix} + b\\cdot \\begin{pmatrix} 2\\\\1\\\\1\\end{pmatrix} + c\\cdot \\begin{pmatrix} -2\\\\2\\\\4  \\end{pmatrix}= \\begin{pmatrix} 1\\\\4\\\\2\\end{pmatrix}\n",
    "$$\n",
    "\n",
    "Die Umstellung liefert zwischendurch einen Widerspruch (gerne selbst ausprobieren oder mit https://matrixcalc.org/de testen. Aus diesem Grund ist $d$ nicht als Linearkombination von $a,b,c$ darstellbar.\n",
    "\n",
    "Eine Basis des $\\mathbb{R}^3$ wäre $\\begin{pmatrix}1\\\\0\\\\0\\end{pmatrix}$, $\\begin{pmatrix}0\\\\1\\\\0\\end{pmatrix}$, $\\begin{pmatrix}0\\\\0\\\\1\\end{pmatrix}$. Mit dieser können wir alle beliebige Elemente dieses Raumes darstellen.\n"
   ]
  },
  {
   "cell_type": "markdown",
   "metadata": {},
   "source": [
    "## Aufgabe 7\n",
    "Sei $a = \\begin{pmatrix} 4\\\\2\\\\-3\\end{pmatrix}$ ein Vektor und $A=\\begin{pmatrix} 1&1&2\\\\-3&2& -1\\\\-1&4&5\\end{pmatrix}$ eine Matrix. Berechne und kontrolliere mit Python.\n",
    "1. $2\\cdot A = \\begin{pmatrix} 2\\cdot 1&2\\cdot 1&2\\cdot 2\\\\2\\cdot -3&2\\cdot 2&2\\cdot -1\\\\2\\cdot -1&2\\cdot 4&2\\cdot 5\\end{pmatrix}= \\begin{pmatrix} 2&2&4\\\\-6&4& -2\\\\-2&8&10\\end{pmatrix}$\n",
    " \n",
    "2. $A\\cdot a = \\begin{pmatrix} 1\\cdot 4 + 1\\cdot 2 + 2\\cdot -3\\\\-3\\cdot 4+ 2\\cdot 2 + -1\\cdot -3\\\\-1\\cdot 4 + 4\\cdot 2 +5\\cdot -3\\end{pmatrix} = \\begin{pmatrix} 0\\\\-5\\\\-11\\end{pmatrix}$\n",
    "\n",
    "3. $<-2\\cdot A\\cdot a, a> = <-2\\cdot \\begin{pmatrix} 0\\\\-5\\\\-11\\end{pmatrix}, \\begin{pmatrix} 4\\\\2\\\\-3\\end{pmatrix}> = <\\begin{pmatrix} 0\\\\10\\\\22\\end{pmatrix}, \\begin{pmatrix} 4\\\\2\\\\-3\\end{pmatrix}> = 0\\cdot 4 + 10\\cdot 2 + 22\\cdot -3 = -46$\n"
   ]
  },
  {
   "cell_type": "code",
   "execution_count": 9,
   "metadata": {},
   "outputs": [
    {
     "name": "stdout",
     "output_type": "stream",
     "text": [
      "[[ 2  2  4]\n",
      " [-6  4 -2]\n",
      " [-2  8 10]]\n",
      "[  0  -5 -11]\n",
      "-46\n"
     ]
    }
   ],
   "source": [
    "import numpy as np\n",
    "\n",
    "# Einlesen der Matrix und des Vektors\n",
    "A = np.array([[1,1,2],[-3,2,-1],[-1,4,5]])\n",
    "a = np.array([4,2,-3])\n",
    "\n",
    "# Teilaufgabe 1\n",
    "print(2*A)\n",
    "\n",
    "# Teilaufgabe 2\n",
    "print(A.dot(a))\n",
    "\n",
    "# Teilaufgabe 3\n",
    "print(np.dot(-2*A.dot(a),a))"
   ]
  },
  {
   "cell_type": "markdown",
   "metadata": {},
   "source": [
    "## Aufgabe 8\n",
    "Schreiben Sie das Gleichungssystem $2x_1 + 3x_2 + x_3 + x_4 = 4$, $5x_1 - x_2 + 3x_3 - x_4 = 0$, $2x_1 - 4x_4 = 8$, $4x_2 - 4x_3 = 8$ in der Form $Ax = b$ und bringen sie die Matrix $A$ in eine Dreiecksform. Lösen Sie danach mit Hilfe der Python Methode `numpy.linalg.solve`.\n",
    " \n"
   ]
  },
  {
   "cell_type": "code",
   "execution_count": 2,
   "metadata": {},
   "outputs": [
    {
     "data": {
      "text/plain": [
       "array([2.66453526e-15, 0.00000000e+00, 0.00000000e+00, 1.77635684e-15])"
      ]
     },
     "execution_count": 2,
     "metadata": {},
     "output_type": "execute_result"
    }
   ],
   "source": [
    "# Eingabe der Matrix A\n",
    "A = np.array([[2,3,1,1],[5,-1,3,-4],[2,0,0,-4],[0,4,-4,0]])\n",
    "# Eingabe des Vektors b\n",
    "b = np.array([4,0,8,8])\n",
    "\n",
    "# Die Lösung wird in s gespeichert\n",
    "s = np.linalg.solve(A,b)\n",
    "\n",
    "# Wir sehen in der Probe, dass das Ergebnis der Differenz 0 ist\n",
    "np.dot(A,s)-b"
   ]
  },
  {
   "cell_type": "markdown",
   "metadata": {},
   "source": [
    "## Aufgabe 9\n",
    "Berechnen Sie den Rang der Matrix in Python. Lerne dazu wie man eine Matrix in Python einliest und finde die richtige Methode.\n",
    "$$\n",
    " A= \\begin{pmatrix}\n",
    " -150 & -423 & 33 & 99 \\\\ \n",
    " 86 & 820 & 62 & -924 \\\\ \n",
    " -193 & 295 & -13 & -742 \\\\ \n",
    " -112 & 152 & -123 & -147 \\\\ \n",
    " -135 & -160 & -13 & -76\n",
    " \\end{pmatrix}\n",
    "$$"
   ]
  },
  {
   "cell_type": "code",
   "execution_count": 4,
   "metadata": {},
   "outputs": [
    {
     "data": {
      "text/plain": [
       "3"
      ]
     },
     "execution_count": 4,
     "metadata": {},
     "output_type": "execute_result"
    }
   ],
   "source": [
    "# Einlesen der Matrix\n",
    "A = np.array([[-150,-423,33,99],\n",
    "              [86,820,62,-924],\n",
    "              [-193,295,-13,-742],\n",
    "              [-112,152,-123,-147],\n",
    "              [-135,-160,-13,-76]])\n",
    "\n",
    "# Ausrechnen des Ranges. Dieser ist 3.\n",
    "np.linalg.matrix_rank(A)"
   ]
  }
 ],
 "metadata": {
  "kernelspec": {
   "display_name": "Python 3",
   "language": "python",
   "name": "python3"
  },
  "language_info": {
   "codemirror_mode": {
    "name": "ipython",
    "version": 3
   },
   "file_extension": ".py",
   "mimetype": "text/x-python",
   "name": "python",
   "nbconvert_exporter": "python",
   "pygments_lexer": "ipython3",
   "version": "3.7.3"
  }
 },
 "nbformat": 4,
 "nbformat_minor": 4
}
