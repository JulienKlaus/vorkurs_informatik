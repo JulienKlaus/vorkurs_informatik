{
 "cells": [
  {
   "cell_type": "markdown",
   "metadata": {},
   "source": [
    "# Übung Analysis\n",
    "\n",
    "**Python kann bei vielen der Aufgaben unterstützend helfen.**\n",
    "\n",
    "## Aufgabe 1\n",
    "Beweisen Sie durch Induktion.\n",
    "  $$\n",
    "  \\forall n\\in\\mathbb{N}:\\sum_{k=0}^n\\binom{n}{k} = 2^n \\text{ und}\n",
    "  $$\n",
    "  $$\n",
    "  \\forall n\\in\\mathbb{N}:\\sum_{k=0}^n k^2 = \\frac{n\\cdot(n+1)\\cdot(2n+1)}{6}.\n",
    "  $$\n",
    "  \n"
   ]
  },
  {
   "cell_type": "markdown",
   "metadata": {},
   "source": [
    "## Aufgabe 2\n",
    "Fasse die folgende Summe zusammen und berechne den Wert (Überprüfe in Python).\n",
    "\n",
    "$$\\sum_{v=2}^{14} (v-1)^2 + \\sum_{w=-2}^8 2\\cdot(w+3) + \\sum_{k=10}^31 1$$"
   ]
  },
  {
   "cell_type": "markdown",
   "metadata": {},
   "source": [
    "## Aufgabe 3\n",
    "\n",
    "Berechne die Lösungsmenge der Ungleichung $|x-3| \\leq |x-9|$."
   ]
  },
  {
   "cell_type": "markdown",
   "metadata": {},
   "source": [
    "## Aufgabe 4\n",
    "Bestimmen Sie die erste Ableitung der Funktion\n",
    "  $$\n",
    "   f(x) = \\frac{x^3+7}{cos(\\frac{\\pi x}{5})}\n",
    "  $$\n",
    "  \n",
    "und testen Sie dies in Python mit Hilfe des Differentialquotient\n",
    "\n",
    "$$\n",
    "    f'(x) = \\lim_{e\\rightarrow 0}\\frac{f(x+e)-f(x)}{e}\n",
    "$$\n",
    "\n",
    "\n",
    "für verschiedene Werte."
   ]
  },
  {
   "cell_type": "code",
   "execution_count": 1,
   "metadata": {},
   "outputs": [],
   "source": [
    "# insert code here"
   ]
  }
 ],
 "metadata": {
  "kernelspec": {
   "display_name": "Python 3",
   "language": "python",
   "name": "python3"
  },
  "language_info": {
   "codemirror_mode": {
    "name": "ipython",
    "version": 3
   },
   "file_extension": ".py",
   "mimetype": "text/x-python",
   "name": "python",
   "nbconvert_exporter": "python",
   "pygments_lexer": "ipython3",
   "version": "3.7.3"
  }
 },
 "nbformat": 4,
 "nbformat_minor": 4
}
