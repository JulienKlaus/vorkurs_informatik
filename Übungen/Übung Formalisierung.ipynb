{
 "cells": [
  {
   "cell_type": "markdown",
   "metadata": {},
   "source": [
    "## Übung Formalisierung\n",
    "\n",
    "### Aufgabe 1 \n",
    "Rechnen Sie folgende Zahlen in das Dezimal- oder Binärsystem um.\n",
    " 1. $123_{10}$\n",
    " 2. $10,75_{10}$\n",
    " 3. $0.6_{10}$\n",
    " 4. $1010_2$\n",
    " 5. $011.101_2$\n",
    "\n",
    "### Aufgabe 2 \n",
    "Berechnen Sie für folgende Zahlen ihre inversen Zahlen (Zweierkomplement) und überprüfen Sie es.\n",
    "\n",
    "1. $01101$\n",
    "2. $11111$   \n",
    "   \n",
    "### Aufgabe 3\n",
    "Berechnen Sie im binären Zahlensystem und überprüfen Sie ihre Ergebnisse in der dezimalen Schreibweise. Wie sind + und $\\cdot$ logisch definiert?\n",
    " 1. $1000+0101$\n",
    " 2. $1001+1001$\n",
    " 3. $1010-0001$\n",
    " 4. $0011-0010$\n",
    " 5. $101\\cdot 101$\n",
    " 6. $10101\\cdot 1000$\n",
    "\n",
    "### Aufgabe 4 \n",
    "Berechnen Sie im binären Zahlensystem und diskutieren Sie das Distributivgesetz im  binären Zahlensystem.\n",
    "1. $0101\\cdot(1011+0011)$\n",
    "2. $0101\\cdot1011+0101\\cdot0011$\n",
    "\n",
    "### Aufgabe 5\n",
    "Berechnen Sie die entsprechende dezimale Zahl. Überprüfen Sie es mit https://www.h-schmidt.net/FloatConverter/IEEE754de.html oder mit dem Python Code weiter unten.\n",
    "1. $11000000111100000000000000000000_2$\n",
    "2. $11000010110000000000000000000000_2$\n",
    "3. $01000011100001010110000000000000_2$\n",
    "\n",
    "### Aufgabe 6\n",
    "Bauen Sie einen Addierer mit $4$ Bit mithilfe des Tools https://logic.ly/demo/.\n",
    " \n",
    "### Aufgabe 7\n",
    "Erzeugen Sie einen Schaltkreis, der die Parität (https://de.wikipedia.org/wiki/Parit\\%C3\\%A4t_(Mathematik)) einer 4 Bit Zahl ausgibt."
   ]
  },
  {
   "cell_type": "code",
   "execution_count": null,
   "metadata": {},
   "outputs": [],
   "source": [
    "# insert code here"
   ]
  },
  {
   "cell_type": "code",
   "execution_count": 10,
   "metadata": {},
   "outputs": [],
   "source": [
    "# copied from https://www.geeksforgeeks.org/program-for-conversion-of-32-bits-single-precision-ieee-754-floating-point-representation/\n",
    "def convertToInt(mantissa_str): \n",
    "  \n",
    "    # variable to make a count \n",
    "    # of negative power of 2. \n",
    "    power_count = -1\n",
    "  \n",
    "    # variable to store \n",
    "    # float value of mantissa. \n",
    "    mantissa_int = 0\n",
    "  \n",
    "    # Iterations through binary \n",
    "    # Number. Standard form of  \n",
    "    # Mantissa is 1.M so we have  \n",
    "    # 0.M therefore we are taking \n",
    "    # negative powers on 2 for  \n",
    "    # conversion. \n",
    "    for i in mantissa_str: \n",
    "  \n",
    "        # Adding converted value of \n",
    "        # Binary bits in every  \n",
    "        # iteration to float mantissa. \n",
    "        mantissa_int += (int(i) * pow(2, power_count)) \n",
    "  \n",
    "        # count will decrease by 1 \n",
    "        # as we move toward right. \n",
    "        power_count -= 1\n",
    "          \n",
    "    # returning mantissa in 1.M form. \n",
    "    return (mantissa_int + 1) "
   ]
  },
  {
   "cell_type": "code",
   "execution_count": 14,
   "metadata": {},
   "outputs": [
    {
     "name": "stdout",
     "output_type": "stream",
     "text": [
      "The float value of the given IEEE-754 representation is : -7.5\n"
     ]
    }
   ],
   "source": [
    "ieee_32 = '1|10000001|11100000000000000000000'\n",
    "  \n",
    "# First bit will be sign bit. \n",
    "sign_bit = int(ieee_32[0]) \n",
    "\n",
    "# Next 8 bits will be  \n",
    "# Exponent Bits in Biased \n",
    "# form. \n",
    "exponent_bias = int(ieee_32[2 : 10], 2) \n",
    "\n",
    "# In 32 Bit format bias \n",
    "# value is 127 so to have \n",
    "# unbiased exponent \n",
    "# subtract 127. \n",
    "exponent_unbias = exponent_bias - 127\n",
    "\n",
    "# Next 23 Bits will be \n",
    "# Mantissa (1.M format) \n",
    "mantissa_str = ieee_32[11 : ] \n",
    "\n",
    "# Function call to convert \n",
    "# 23 binary bits into  \n",
    "# 1.M real no. form \n",
    "mantissa_int = convertToInt(mantissa_str) \n",
    "\n",
    "# The final real no. obtained \n",
    "# by sign bit, mantissa and \n",
    "# Exponent. \n",
    "real_no = pow(-1, sign_bit) * mantissa_int * pow(2, exponent_unbias) \n",
    "\n",
    "# Printing the obtained \n",
    "# Real value of floating \n",
    "# Point Representaion. \n",
    "print(\"The float value of the given IEEE-754 representation is :\",real_no) "
   ]
  },
  {
   "cell_type": "code",
   "execution_count": null,
   "metadata": {},
   "outputs": [],
   "source": []
  }
 ],
 "metadata": {
  "kernelspec": {
   "display_name": "Python 3",
   "language": "python",
   "name": "python3"
  },
  "language_info": {
   "codemirror_mode": {
    "name": "ipython",
    "version": 3
   },
   "file_extension": ".py",
   "mimetype": "text/x-python",
   "name": "python",
   "nbconvert_exporter": "python",
   "pygments_lexer": "ipython3",
   "version": "3.7.3"
  }
 },
 "nbformat": 4,
 "nbformat_minor": 4
}
