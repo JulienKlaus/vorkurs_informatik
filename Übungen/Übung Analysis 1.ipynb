{
 "cells": [
  {
   "cell_type": "markdown",
   "metadata": {},
   "source": [
    "# Übung Analysis\n",
    "\n",
    "**Python kann bei vielen der Aufgaben unterstützend helfen.**\n",
    "\n",
    "## Aufgabe 1 \n",
    "Vereinfache\n",
    " 1. $a^3\\cdot a^5$,\n",
    " 2. $x^{-1}\\cdot x^2$,\n",
    " 3. $y^\\frac{1}{2}\\cdot y^2$,\n",
    " 4. $2^x\\cdot 4^x$,\n",
    " 5. $10^{-1}\\cdot\\left(\\frac{1}{2}\\right)^{-1}$,\n",
    " 6. $(a^2)^\\frac{1}{2}$.\n",
    "  \n",
    "## Aufgabe 2\n",
    "Führen Sie eine Indexverschiebung durch, so dass der Summationsindex bei $0$ beginnt und berechnen Sie den Wert der Summen, so weit möglich (testen Sie gerne in Python).\n",
    " 1. $\\sum\\limits_{i=2}^n a$\n",
    " 2. $\\sum\\limits_{k=2}^n k^2$\n",
    " 3. $\\sum\\limits_{l=-2}^9 (l-2)$\n",
    " 4. $\\sum\\limits_{m=1}^1 \\ln(m)$\n",
    " 5. $\\sum\\limits_{j=1}^m(-1)^j$\n",
    " \n",
    "## Aufgabe 3\n",
    "Bestimmen Sie die Lösungsmenge der folgenden Ungleichung.\n",
    "  $$\n",
    "   |x-3|+|x+3|>8.\n",
    "  $$\n",
    "  \n",
    "## Aufgabe 4\n",
    "Berechnen Sie $(5x^3 - 17x^2 + 4x + 6) : (x-3)$ mit Hilfe der Polynomdivision.\n",
    "  \n",
    "## Aufgabe 5 \n",
    "Bestimmen Sie den Wert von $x$ für folgende Gleichungen. \n",
    " 1. $2^x\\cdot 8^{x-1} = 32$\n",
    " 2. $\\log_2(x^2) - \\log_2(2x) = 4$\n",
    " 3. $\\sqrt{e^x}=e^6\\cdot e^x$\n",
    " \n",
    "## Aufgabe 6\n",
    "Seien $a,q\\in\\mathbb{R}, q\\neq 1$ und $n\\in\\mathbb{N}_0$. Beweisen Sie mit Hilfe der vollständigen Induktion folgende Aussage.\n",
    "  $$\n",
    "   \\sum_{k=0}^n aq^k = a\\frac{1-q^{n+1}}{1-q}.\n",
    "  $$"
   ]
  },
  {
   "cell_type": "code",
   "execution_count": 16,
   "metadata": {},
   "outputs": [],
   "source": [
    "# insert code here"
   ]
  }
 ],
 "metadata": {
  "kernelspec": {
   "display_name": "Python 3",
   "language": "python",
   "name": "python3"
  },
  "language_info": {
   "codemirror_mode": {
    "name": "ipython",
    "version": 3
   },
   "file_extension": ".py",
   "mimetype": "text/x-python",
   "name": "python",
   "nbconvert_exporter": "python",
   "pygments_lexer": "ipython3",
   "version": "3.7.3"
  }
 },
 "nbformat": 4,
 "nbformat_minor": 4
}
