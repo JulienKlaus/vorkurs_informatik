{
 "cells": [
  {
   "cell_type": "markdown",
   "metadata": {},
   "source": [
    "# Übung Analysis\n",
    "\n",
    "**Python kann bei vielen der Aufgaben unterstützend helfen.**\n",
    "\n",
    "## Aufgabe 1 \n",
    "Vereinfache\n",
    " 1. $a^3\\cdot a^5 = a^8$,\n",
    " 2. $x^{-1}\\cdot x^2 = x$,\n",
    " 3. $y^\\frac{1}{2}\\cdot y^2 = y^{\\frac{5}{2}}$,\n",
    " 4. $2^x\\cdot 4^x =(2\\cdot 4)^x = 8^x$,\n",
    " 5. $10^{-1}\\cdot\\left(\\frac{1}{2}\\right)^{-1} = \\left({10}\\cdot\\frac{1}{2}\\right)^{-1} = \\frac{10}{2}^{-1} = \\frac{5}{1}^{-1} = \\frac{1}{5}$,\n",
    " 6. $(a^2)^\\frac{1}{2} = a$.\n",
    " \n"
   ]
  },
  {
   "cell_type": "markdown",
   "metadata": {},
   "source": [
    "## Aufgabe 2\n",
    "Führen Sie eine Indexverschiebung durch, so dass der Summationsindex bei $0$ beginnt und berechnen Sie den Wert der Summen, so weit möglich (testen Sie gerne in Python).\n",
    " 1. $\\sum\\limits_{i=2}^n a = \\sum\\limits_{i=0}^{n-2}a=(n-2+1)\\cdot a$\n",
    " 2. $\\sum\\limits_{k=2}^n k^2 = \\sum\\limits_{k=0}^{n-2}(k+2)^2$ die Lösung hierzu in der nächsten Übung\n",
    " 3. $\\sum\\limits_{l=-2}^9 (l-2) = \\sum\\limits_{l=0}^{11}(l-4) =  \\sum\\limits_{l=0}^{11}l - \\sum\\limits_{l=0}^{11}4 = \\frac{11\\cdot 12}{2} - 48 = 66- 48 = 18 $\n",
    " 4. $\\sum\\limits_{m=1}^1 \\ln(m) = \\sum\\limits_{m=0}^0 \\ln(m+1) = \\ln(1) = 0$\n",
    " 5. $\\sum\\limits_{j=1}^m(-1)^j = \\sum\\limits_{j=0}^{m-1}(-1)^{j+1}=\n",
    " \\begin{cases}\n",
    "-1\\text{, falls m ungerade}\\\\\n",
    "0 \\text{, sonst}\n",
    "\\end{cases}$"
   ]
  },
  {
   "cell_type": "code",
   "execution_count": 5,
   "metadata": {},
   "outputs": [
    {
     "name": "stdout",
     "output_type": "stream",
     "text": [
      "18\n"
     ]
    }
   ],
   "source": [
    "# Überprüfung für 3. \n",
    "summe = 0\n",
    "# die range function geht nur bis 11-1, deshalb die +1\n",
    "for l in range(11 + 1):\n",
    "    summe += (l-4)\n",
    "print(summe)    "
   ]
  },
  {
   "cell_type": "markdown",
   "metadata": {},
   "source": [
    "## Aufgabe 3\n",
    "Bestimmen Sie die Lösungsmenge der folgenden Ungleichung.\n",
    "  $$\n",
    "   |x-3|+|x+3|>8.\n",
    "  $$\n",
    "\n",
    "Wir müssen hierzu die verschiedenen Fälle abgehen. Schauen wir zuerst, wann beide Beträge positiv werden.\n",
    "\n",
    "1. Fall $x-3 \\geq 0$ und $x+3 \\geq 0$ daraus folgt $x\\geq 3$.\n",
    "Wir können somit beide Beträge auflösen und die Ungleichung lösen.\n",
    "$$ x-3 + x+3 > 8 \\leftrightarrow 2\\cdot x > 8 \\leftrightarrow x > 4 $$\n",
    "\n",
    "2. Fall $x-3 < 0$ und $x+3 \\geq 0$ daraus folgt $x<3$ und $x >= -3$.\n",
    "Wir können den ersten Betrag nach der Definition negieren und die Ungleichung lösen.\n",
    "$$ -(x-3) + x+3 > 8 \\leftrightarrow -x+3+x+3 > 8\\leftrightarrow 6 > 8 $$\n",
    "Dies ist eine falsche Aussage. Somit kann $x$ nicht in diesem Bereich liegen.\n",
    "\n",
    "3. Fall $x-3< 0$ und $x+3 < 0$ daraus folgt $x< -3$.\n",
    "Wir können somit beide Beträge negieren und damit auflösen und die Ungleichung lösen.\n",
    "$$ -(x-3) + -(x+3) > 8 \\leftrightarrow 2\\cdot -x > 8 \\leftrightarrow x < -4 $$\n",
    "\n",
    "Wir wissen nun, dass $x\\in(-\\infty, -4)\\cup(4,\\infty)$ liegt.\n",
    "  "
   ]
  },
  {
   "cell_type": "code",
   "execution_count": null,
   "metadata": {},
   "outputs": [],
   "source": [
    "import matplotlib.pyplot as plt\n",
    "import numpy as np\n",
    "\n",
    "def f(x):\n",
    "    return np.abs(x-3)+np.abs(x+)"
   ]
  },
  {
   "cell_type": "markdown",
   "metadata": {},
   "source": [
    "## Aufgabe 4\n",
    "Berechnen Sie $(5x^3 - 17x^2 + 4x + 6) : (x-3)$ mit Hilfe der Polynomdivision.\n",
    "\n",
    "$$\n",
    "\\begin{align}\n",
    "(&5x^3&-17x^2&+4x+6) : (x-3) = (5x^2-2x-2)\\\\\n",
    "(&5x^3&-15x^2)&\\\\\n",
    "&&(-2x^2&+4x)\\\\\n",
    "&&(-2x^2&+6x)\\\\\n",
    "&&&(-2x+6)\\\\\n",
    "&&&(-2x+6)\\\\\n",
    "\\end{align}\n",
    "$$"
   ]
  },
  {
   "cell_type": "markdown",
   "metadata": {},
   "source": [
    "## Aufgabe 5 \n",
    "Bestimmen Sie den Wert von $x$ für folgende Gleichungen. \n",
    " 1. $2^x\\cdot 8^{x-1} = 32$\n",
    " 2. $\\log_2(x^2) - \\log_2(2x) = 4$\n",
    " 3. $\\sqrt{e^x}=e^6\\cdot e^x$\n",
    "\n",
    "Lösung\n",
    "\n",
    "1. $2^x\\cdot 2^{3(x+1)}=2^{4x-3}=32\\leftrightarrow 4x-3=5\\leftrightarrow x=2$\n",
    "2. $\\log_2(x^2)-\\log_2(2x)=\\log_2(\\frac{x^2}{2x})=4\\leftrightarrow\\log_2(\\frac{x}{2x})=\\log_2(4^2)\n",
    "  \\leftrightarrow\\log_2(\\frac{x}{2\\cdot16})=0\\leftrightarrow\\frac{x}{32}=1\\leftrightarrow x=32$\n",
    "3. $\\sqrt{e^{x}}=e^{\\frac{x}{2}}=e^{6+x}\\leftrightarrow e^{6+x-\\frac{x}{2}}=1\\leftrightarrow 6+\\frac{x}{2}=0\\leftrightarrow x=-12$"
   ]
  },
  {
   "cell_type": "markdown",
   "metadata": {},
   "source": [
    "## Aufgabe 6\n",
    "Seien $a,q\\in\\mathbb{R}, q\\neq 1$ und $n\\in\\mathbb{N}_0$. Beweisen Sie mit Hilfe der vollständigen Induktion folgende Aussage.\n",
    "$$\n",
    "   \\sum_{k=0}^n aq^k = a\\frac{1-q^{n+1}}{1-q}.\n",
    "$$\n",
    "\n",
    "**Induktionsanfang:** Für $n_0=0$ gilt:\n",
    "$$\n",
    "    \\sum_{k=0}^{n_0} aq^k = a\\frac{1-q^{0}}{1-q} = a\\frac{1-q^{0+1}}{1-q}\n",
    "$$\n",
    "Wir sehen, dass für den Wert $n_0=0$ die Aussage gilt. \n",
    "\n",
    "**Induktionsvorraussetzung:** Für ein beliebiges aber festes $m$ gilt\n",
    "$$\n",
    " \\sum_{k=0}^{m} aq^k = a\\frac{1-q^{m}}{1-q}\n",
    "$$\n",
    "\n",
    "**Induktionsbehauptung:** Unter der Annahme, dass die Induktionsvorraussetzung gilt, gilt für $m+1$ \n",
    "$$\n",
    " \\sum_{k=0}^{m+1} aq^k = a\\frac{1-q^{m+1}}{1-q}\n",
    "$$\n",
    "\n",
    "**Induktionsschritt:** Wir zeigen dies, in dem wir die linke Seite der Induktionsbehauptung so umformen, dass wir die Induktionsvorraussetzung einsetzen können und damit die rechte Seite der Induktionsbehauptung erhalten.\n",
    "$$\n",
    "\\begin{align}\n",
    "\\sum\\limits_{k=0}^{n+1}aq^k&=aq^{n+1}+\\sum\\limits_{k=0}^{n}aq^k\\\\\n",
    "&=aq^{n+1}+a\\cfrac{1-q^{n+1}}{1-q}\\\\\n",
    "&=a\\left(q^{n+1}+\\cfrac{1-q^{n+1}}{1-q}\\right)\\\\\n",
    "&=a\\cfrac{q^{n+1}-q^{n+2}+1-q^{n+1}}{1-q}\\\\\n",
    "&=a\\cfrac{1-q^{n+2}}{1-q}\n",
    "\\end{align}\n",
    "$$\n"
   ]
  }
 ],
 "metadata": {
  "kernelspec": {
   "display_name": "Python 3",
   "language": "python",
   "name": "python3"
  },
  "language_info": {
   "codemirror_mode": {
    "name": "ipython",
    "version": 3
   },
   "file_extension": ".py",
   "mimetype": "text/x-python",
   "name": "python",
   "nbconvert_exporter": "python",
   "pygments_lexer": "ipython3",
   "version": "3.7.3"
  }
 },
 "nbformat": 4,
 "nbformat_minor": 4
}
