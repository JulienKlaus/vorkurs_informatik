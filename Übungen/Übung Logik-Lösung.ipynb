{
 "cells": [
  {
   "cell_type": "markdown",
   "metadata": {},
   "source": [
    "# Übung zu Logik # \n",
    "\n",
    "## Aufgabe 1 ##\n",
    "Sind die folgenden Aussagen wahr oder falsch? Und geben Sie bei falschen die korrekte Aussage an.\n",
    " 1. $\\overline{\\overline{a}\\land b} = a\\lor \\overline{b}$, - korrekt\n",
    " 2. $\\overline{a\\lor\\overline{b}} = a\\land\\overline{b}$. - falsch\n",
    "    ($\\overline{a\\lor\\overline{b}} = \\overline{a}\\land\\overline{\\overline{b}} = \\overline{a}\\land b$)\n",
    "\n",
    "Wir können allerdings nicht annehmen, dass es nach unendlichen vielen Schritten nicht doch eine korrekte Umformung gibt. Deshalb kontrollieren wir die ungleich zusätzlich über eine Wahrheitswerttabelle. Wie wir sehen stimmen die letzten beiden Spalten nicht überein."
   ]
  },
  {
   "cell_type": "code",
   "execution_count": 7,
   "metadata": {},
   "outputs": [
    {
     "name": "stdout",
     "output_type": "stream",
     "text": [
      "a\tb\tnot (a or not (b))\ta and not(b)\n",
      "True\tTrue\tFalse\t\t\tFalse\n",
      "True\tFalse\tFalse\t\t\tTrue\n",
      "False\tTrue\tTrue\t\t\tFalse\n",
      "False\tFalse\tFalse\t\t\tFalse\n"
     ]
    }
   ],
   "source": [
    "print(\"a\", \"b\", \"not (a or not (b))\", \"a and not(b)\", sep=\"\\t\")\n",
    "for a in [True, False]:\n",
    "    for b in [True, False]:\n",
    "        print(a,b,not (a or not b), \"\\t\", a and not b, sep=\"\\t\")\n",
    "        "
   ]
  },
  {
   "cell_type": "markdown",
   "metadata": {},
   "source": [
    "## Aufgabe 2 ##\n",
    "Vereinfache.\n",
    " 1. $a\\land(\\overline{a}\\lor b) = a\\land b$,\n",
    " 2. $(a\\land\\overline{b})\\lor b = a \\lor b$,\n",
    " 3. $(a\\land b)\\lor (a\\land \\overline{b}) = a$.\n",
    " \n",
    "Bemerkung\n",
    "- $a \\land w = a$\n",
    "- $b \\lor w = w$\n",
    "- $a \\land f = f$\n",
    "- $b \\lor f = b$"
   ]
  },
  {
   "cell_type": "markdown",
   "metadata": {},
   "source": [
    "## Aufgabe 3 ##\n",
    "Seien $p$ und $q$ beliebige Aussagen. Geben Sie jeweils zu den Aussagen $p\\land q$, $p\\lor q$, $p\\rightarrow q$ und $p\\leftrightarrow q$ äquivalente Aussagen an, die nur die Verknüpfungen $\\lnot$ und $\\land$ verwenden. \n",
    "\n",
    "1. $p\\land q$ enthält $\\land$. Es soll allerdings auch $\\lnot$ beeinhalten, also $\\lnot (\\lnot (p\\land q))$\n",
    "2. $p\\lor q = \\lnot (\\lnot p \\land \\lnot q)$\n",
    "3. $p\\rightarrow q = \\lnot p \\lor q = \\lnot (\\lnot\\lnot p \\land \\lnot q) = \\lnot (p \\land \\lnot q)$\n",
    "4. $p\\leftrightarrow q = (p\\rightarrow q) \\land (q\\rightarrow p) = \\lnot((\\lnot (p \\land \\lnot q))\\land (\\lnot (q \\land \\lnot p)))$\n",
    "\n",
    "Diese Aufgabe hat den Zweck euch zu zeigen, dass alle logischen Operationen mit den beiden Operationen $\\lnot a$ und $\\lnot (a \\land b)$ durchgeführt werden. Man benötigt diese für den Schaltkreisentwurf und bezeichnet sie als NOT- und NAND-Gatter."
   ]
  },
  {
   "cell_type": "markdown",
   "metadata": {},
   "source": [
    "## Aufgabe 4 ##\n",
    "Graf Hubert wurde in seinem Arbeitszimmer ermordet. Der Arzt hat festgestellt, dass der Tod zwischen 9:30 und 10:30 Uhr eingetreten ist. Die Haushälterin von Graf Hubert ist um 10:00 vom Garten in die Küche gegangen. Um an der Haushälterin vorbeizukommen, muss der Mörder vor 10:00 mit einem Schlüssel durch die Eingangstür oder nach 10:00 durchs Fenster eingestiegen sein. Kommissar Berghammer vermutet einen der drei Erben A, B oder C als Mörder. A hat als einziger einen Schlüssel, kann aber wegen seines Gipsfußes nicht durchs Fenster eingestiegen sein. A und B haben beide keine Alibis für die Zeit nach 10:00 Uhr (wohl aber für die Zeit vor 10:00 Uhr) und C hat kein Alibi für die Zeit vor 10:00 (wohl aber für die Zeit nach 10:00 Uhr). \n",
    " \n",
    " Wer von den dreien kommt als Mörder in Frage? "
   ]
  },
  {
   "cell_type": "code",
   "execution_count": 8,
   "metadata": {},
   "outputs": [
    {
     "name": "stdout",
     "output_type": "stream",
     "text": [
      "t: True \ts: True \tf: True \tA: False \tB: False \tC: False\n",
      "t: True \ts: True \tf: False \tA: False \tB: False \tC: False\n",
      "t: True \ts: False \tf: True \tA: False \tB: False \tC: False\n",
      "t: True \ts: False \tf: False \tA: False \tB: False \tC: False\n",
      "t: False \ts: True \tf: True \tA: False \tB: False \tC: False\n",
      "t: False \ts: True \tf: False \tA: False \tB: False \tC: False\n",
      "t: False \ts: False \tf: True \tA: False \tB: True \tC: False\n",
      "t: False \ts: False \tf: False \tA: False \tB: False \tC: False\n"
     ]
    }
   ],
   "source": [
    "# t... Mord vor 10 Uhr\n",
    "# s... Schlüssel wurde benutzt\n",
    "# f... Es wurde durch das Fenster eingestiegen\n",
    "\n",
    "def mord(t, s, f):\n",
    "    return (t and s) or (not t and f)\n",
    "\n",
    "def A(t, s, f):\n",
    "    return (not t) and s and (not f)\n",
    "\n",
    "def B(t, s, f):\n",
    "    return (not t) and (not s)\n",
    "\n",
    "def C(t, s, f):\n",
    "    return t and (not s)\n",
    "\n",
    "for t in [True, False]:\n",
    "    for s in [True, False]:\n",
    "        for f in [True, False]:\n",
    "            print(f't: {t} \\ts: {s} \\tf: {f} \\tA: {mord(t,s,f) and A(t,s,f)} \\tB: {mord(t,s,f) and B(t,s,f)} \\tC: {mord(t,s,f) and C(t,s,f)}')"
   ]
  },
  {
   "cell_type": "markdown",
   "metadata": {},
   "source": [
    "Antwort: Es kann nur **B** gewesen sein. Überlegt euch dazu, wie in dem Python Programm, welche Vorraussetzungen der Mörder benötigt und welche Vorraussetzungen die einzelnen Verdächtigen mit sich bringen."
   ]
  },
  {
   "cell_type": "markdown",
   "metadata": {},
   "source": [
    "## Aufgabe 5 ##\n",
    "Seien $p$ und $q$ beliebige Aussagen. Beweisen Sie mit Hilfe von Umformungen die folgenden Tautologien.\n",
    " 1. $(p\\leftrightarrow q) \\leftrightarrow ((\\lnot p)\\leftrightarrow (\\lnot q))$\n",
    " 2. $(p\\land (p\\rightarrow q)) \\rightarrow q$\n",
    " 3. $(\\lnot(p\\rightarrow q))\\leftrightarrow (p\\land \\lnot q)$"
   ]
  },
  {
   "cell_type": "markdown",
   "metadata": {},
   "source": [
    "Tautologien sind $a\\lor\\lnot a$ und $a\\leftrightarrow a$\n",
    "\n",
    "\n",
    "1.\n",
    "$$\n",
    "\\begin{align}\n",
    "(p\\leftrightarrow q) &\\leftrightarrow ((p\\rightarrow q) \\land (q\\rightarrow p))\\\\&\\leftrightarrow\n",
    "((\\lnot p\\lor q)\\land(\\lnot q\\lor p))\\\\&\\leftrightarrow\n",
    "(( q\\lor \\lnot p)\\land(p\\lor\\lnot q))\\\\&\\leftrightarrow\n",
    "((p\\lor\\lnot q)\\land ( q\\lor \\lnot p))\n",
    "\\\\&\\leftrightarrow((\\lnot p \\rightarrow \\lnot q)\\land(\\lnot q\\rightarrow \\lnot p))\\\\&\\leftrightarrow ((\\lnot p)\\leftrightarrow (\\lnot q))\n",
    "\\end{align}\n",
    "$$\n",
    "\n",
    "2.\n",
    "$$\n",
    "\\begin{align}\n",
    "((p\\land(p\\rightarrow q))\\rightarrow q)&\\leftrightarrow ((p\\land(\\lnot p\\lor q))\\rightarrow q)\n",
    "\\\\&\\leftrightarrow (\\lnot(p\\land(\\lnot p\\lor q))\\lor q)\n",
    "\\\\&\\leftrightarrow ((\\lnot p\\lor\\lnot(\\lnot p\\lor q))\\lor q)\n",
    "\\\\&\\leftrightarrow ((\\lnot p\\lor\\lnot(\\lnot p\\lor q))\\lor q)\n",
    "\\\\&\\leftrightarrow ((\\lnot p\\lor(p\\lor \\lnot q))\\lor q)\n",
    "\\\\&\\leftrightarrow (((\\lnot p\\lor p) \\lor \\lnot q)\\lor q)\n",
    "\\\\&\\leftrightarrow ((\\lnot q)\\lor q)\n",
    "\\\\&\\leftrightarrow (\\lnot q\\lor q)\n",
    "\\end{align}\n",
    "$$\n",
    "\n",
    "3.\n",
    "$$\n",
    "\\begin{align}\n",
    "(\\lnot(p\\rightarrow q))&\\leftrightarrow (\\lnot(\\lnot p\\lor q)\\\\\n",
    "&\\leftrightarrow(p\\land \\lnot q))\\\\&\\leftrightarrow (p\\land \\lnot q)\n",
    "\\end{align}\n",
    "$$"
   ]
  },
  {
   "cell_type": "markdown",
   "metadata": {},
   "source": [
    "## Aufgabe 6\n",
    "Stellen Sie fest, ob die zweite Aussage eine Verneinung der ersten Aussage ist. Falls dies nicht der Fall ist geben Sie eine korrekte Verneinung der ersten Aussage an.\n",
    " 1. Die Zahl 4 ist durch 2 teilbar. -- Die Zahl 4 ist durch 3 teilbar. -- Die Zahl 4 ist nicht durch 2 teilbar.\n",
    " 2. Alle natürlichen Zahlen sind gerade. -- Alle natürlichen Zahlen sind ungerade. -- Es existiert eine natürliche Zahl die ungerade ist.\n",
    " 3. Jede gerade Zahl ist durch 4 teilbar. -- Es gibt eine gerade Zahl, die nicht durch 4 teilbar ist. -- korrekt\n",
    " 4. Es gibt eine natürliche Zahl, die nicht durch 1 teilbar ist. -- Es gibt eine natürliche Zahl, die durch 1 teilbar ist. -- Alle natürlichen Zahlen sind durch 1 teilbar.\n",
    " \n",
    "Lösungen\n",
    "1. Die Zahl 4 ist nicht durch 2 teilbar\n",
    "2. Es gibt eine natürliche Zahl, die nicht gerade ist\n",
    "3. korrekt\n",
    "4. Jede natürliche Zahl ist durch 1 teilbar\n",
    "\n",
    "**Falls ihr nicht wisst wie man auf die Lösung kommt, versucht doch einfach mal diese aussagen zu formalisieren. Hier ein Beispiel für die 2. Aufgabe:**\n",
    "$$\n",
    "\\forall n\\in\\mathbb{N}: \\text { n ist gerade } \n",
    "$$\n",
    "Diese Verneint führt zu:\n",
    "$$\n",
    "\\lnot(\\forall n\\in\\mathbb{N}: \\text { n ist gerade }) \\leftrightarrow \\exists n\\in\\mathbb{N}: \\lnot (\\text{ n ist gerade }) \\leftrightarrow \\exists n\\in\\mathbb{N}: \\text{ n ist ungerade }\n",
    "$$"
   ]
  },
  {
   "cell_type": "markdown",
   "metadata": {},
   "source": [
    "## Aufgabe 7 ##\n",
    "Prüfen Sie, ob die folgenden Aussagen für beliebige Mengen $A,B,C\\neq\\emptyset$ gelten.\n",
    " 1. $(A\\cup B)\\times C = (A\\times C)\\cup (B\\times C)$\n",
    " 2. $(A\\setminus B)\\times C = (A\\times C)\\setminus(B\\times C)$\n",
    " 3. $(C\\times C)\\cup(A\\times B) = (C\\cup A)\\times (C\\cup B)$\n",
    " \n",
    "Lösungen\n",
    "1. korrekt\n",
    "$$\n",
    "\\begin{align}\n",
    "(A\\cup B)\\times C&=\\{(x,y): x\\in(A\\cup B) \\land y\\in C\\}\\\\\n",
    "&=\\{(x,y): (x\\in A \\lor x\\in B) \\land y\\in C\\}\\\\\n",
    "&=\\{(x,y): (x\\in A \\land y\\in C) \\lor (x\\in B \\land y\\in C)\\}\\\\\n",
    "&=\\{(x,y): (x,y)\\in A\\times C \\lor (x,y)\\in B\\times C\\}\\\\\n",
    "&=(A\\times C)\\cup(B\\times C)\n",
    "\\end{align}\\\\\n",
    "$$\n",
    "\n",
    "2. korrekt\n",
    "$$\n",
    "\\begin{align}\n",
    "(A\\times C)\\setminus(B\\times C)&=\\{(x,y): (x,y)\\in (A\\times C)\\land (x,y)\\notin (B\\times C)\\}\\\\\n",
    "&=\\{(x,y): x\\in A \\land y\\in C\\land \\lnot(x\\in B \\land y\\in C)\\}\\\\\n",
    "&=\\{(x,y): x\\in A \\land y\\in C\\land (x\\notin B \\lor y\\notin C)\\}\\\\\n",
    "&=\\{(x,y): (x\\in A \\land y\\in C\\land x\\notin B) \\lor (x\\in A \\land y\\in C\\land y\\notin C)\\}\\\\\n",
    "&=\\{(x,y): x\\in A \\land x\\notin B \\land y\\in C\\}\\\\\n",
    "&=\\{(x,y): x\\in (A\\setminus B) \\land y\\in C\\}\\\\\n",
    "&=(A\\setminus B)\\times C\\\\\n",
    "\\end{align}\\\\\n",
    "$$\n",
    "\n",
    "3. falsch\n",
    "\n",
    "**Wir zeigen dies durch Angabe eines Gegenbeispieles.**\n",
    "\n",
    "Beispiel: $A = \\{a\\}, B=\\{b\\}, C=\\{c\\}$. Dann ist $(C\\times C)\\cup(A\\times B = \\{(c,c), (a,b)\\}$. In der Menge $(C\\cup A)\\times(C\\cup B)$ würden wir allerdings weitere Elemente finden. Diese umfasst die Menge $\\{(c,c), (a,c), (c,b), (a,b)\\}$"
   ]
  },
  {
   "cell_type": "markdown",
   "metadata": {},
   "source": [
    "## Aufgabe 8 ##\n",
    "Erstelle in Python die vollständige Wahrheitswerttabelle für die folgende Aussage über $p,q,r,s,t$. Wie viele Belegungen machen diese Aussage wahr?\n",
    "$$\n",
    "    (\\lnot(\\lnot(p) \\land q \\lor r) \\land (s \\lor t) \\land (r \\land \\lnot(t)) \\land t) \\lor (r \\land \\lnot(t)) \\lor (s \\land \\lnot(p))\n",
    "$$"
   ]
  },
  {
   "cell_type": "code",
   "execution_count": 23,
   "metadata": {},
   "outputs": [
    {
     "name": "stdout",
     "output_type": "stream",
     "text": [
      "p\tq\tr\ts\tt\twert\n",
      "True\tTrue\tTrue\tTrue\tTrue\tFalse\n",
      "True\tTrue\tTrue\tTrue\tFalse\tTrue\n",
      "True\tTrue\tTrue\tFalse\tTrue\tFalse\n",
      "True\tTrue\tTrue\tFalse\tFalse\tTrue\n",
      "True\tTrue\tFalse\tTrue\tTrue\tFalse\n",
      "True\tTrue\tFalse\tTrue\tFalse\tFalse\n",
      "True\tTrue\tFalse\tFalse\tTrue\tFalse\n",
      "True\tTrue\tFalse\tFalse\tFalse\tFalse\n",
      "True\tFalse\tTrue\tTrue\tTrue\tFalse\n",
      "True\tFalse\tTrue\tTrue\tFalse\tTrue\n",
      "True\tFalse\tTrue\tFalse\tTrue\tFalse\n",
      "True\tFalse\tTrue\tFalse\tFalse\tTrue\n",
      "True\tFalse\tFalse\tTrue\tTrue\tFalse\n",
      "True\tFalse\tFalse\tTrue\tFalse\tFalse\n",
      "True\tFalse\tFalse\tFalse\tTrue\tFalse\n",
      "True\tFalse\tFalse\tFalse\tFalse\tFalse\n",
      "False\tTrue\tTrue\tTrue\tTrue\tTrue\n",
      "False\tTrue\tTrue\tTrue\tFalse\tTrue\n",
      "False\tTrue\tTrue\tFalse\tTrue\tFalse\n",
      "False\tTrue\tTrue\tFalse\tFalse\tTrue\n",
      "False\tTrue\tFalse\tTrue\tTrue\tTrue\n",
      "False\tTrue\tFalse\tTrue\tFalse\tTrue\n",
      "False\tTrue\tFalse\tFalse\tTrue\tFalse\n",
      "False\tTrue\tFalse\tFalse\tFalse\tFalse\n",
      "False\tFalse\tTrue\tTrue\tTrue\tTrue\n",
      "False\tFalse\tTrue\tTrue\tFalse\tTrue\n",
      "False\tFalse\tTrue\tFalse\tTrue\tFalse\n",
      "False\tFalse\tTrue\tFalse\tFalse\tTrue\n",
      "False\tFalse\tFalse\tTrue\tTrue\tTrue\n",
      "False\tFalse\tFalse\tTrue\tFalse\tTrue\n",
      "False\tFalse\tFalse\tFalse\tTrue\tFalse\n",
      "False\tFalse\tFalse\tFalse\tFalse\tFalse\n",
      "14 von 32 sind wahr.\n"
     ]
    }
   ],
   "source": [
    "number = 0\n",
    "print(\"p\",\"q\",\"r\",\"s\",\"t\",\"wert\",sep=\"\\t\")\n",
    "for p in [True, False]:\n",
    "    for q in [True, False]:\n",
    "        for r in [True, False]:\n",
    "            for s in [True, False]:\n",
    "                for t in [True, False]:\n",
    "                    a = (not(not(p) and q or r) and (s or t) and \\\n",
    "                         (r and not(t)) and t) or (r and not(t)) \\\n",
    "                            or (s and not(p))\n",
    "                    print(p,q,r,s,t,a,sep=\"\\t\")\n",
    "                    if a == True:\n",
    "                        number = number + 1\n",
    "\n",
    "print(number, \"von\", 32, \"sind wahr.\")"
   ]
  },
  {
   "cell_type": "code",
   "execution_count": null,
   "metadata": {},
   "outputs": [],
   "source": []
  }
 ],
 "metadata": {
  "kernelspec": {
   "display_name": "Python 3",
   "language": "python",
   "name": "python3"
  },
  "language_info": {
   "codemirror_mode": {
    "name": "ipython",
    "version": 3
   },
   "file_extension": ".py",
   "mimetype": "text/x-python",
   "name": "python",
   "nbconvert_exporter": "python",
   "pygments_lexer": "ipython3",
   "version": "3.7.3"
  }
 },
 "nbformat": 4,
 "nbformat_minor": 4
}
