{
 "cells": [
  {
   "cell_type": "code",
   "execution_count": 16,
   "id": "e7effd03",
   "metadata": {},
   "outputs": [],
   "source": [
    "import os\n",
    "\n",
    "import requests\n",
    "import bs4\n",
    "\n",
    "from fpdf import FPDF\n",
    "from PyPDF2 import PdfFileMerger, PdfFileReader\n",
    "from PIL import Image"
   ]
  },
  {
   "cell_type": "code",
   "execution_count": 37,
   "id": "d3f287ae",
   "metadata": {},
   "outputs": [],
   "source": [
    "download_folder = \"xkcd\"\n",
    "\n",
    "url = \"https://xkcd.com\"\n",
    "# url = \"http://www.google.de\"\n",
    "os.makedirs(download_folder, exist_ok=True)\n",
    "\n",
    "for i in range(20):\n",
    "    res =  requests.get(url)\n",
    "    res.raise_for_status()\n",
    "    \n",
    "    soup = bs4.BeautifulSoup(res.text, \"html.parser\")\n",
    "    \n",
    "    comic_element = soup.select(\"#comic img\")\n",
    "    if comic_element == []:\n",
    "        print(\"Could not find\")\n",
    "    else:\n",
    "        # Bild heruntergeladen und gespeichert\n",
    "        comic_url = 'https:' + comic_element[0].get('src')\n",
    "        try:\n",
    "            res = requests.get(comic_url)\n",
    "        except Exception:\n",
    "            print(\"could not download comic\")\n",
    "        with open(os.path.join(download_folder, os.path.basename(comic_url)), \"wb\") as file:\n",
    "            for chunk in res.iter_content(100000):\n",
    "                file.write(chunk)\n",
    "    prev_link = soup.select('a[rel=\"prev\"]')[0]\n",
    "    url = f\"https://xkcd.com{prev_link.get('href')}\"\n",
    "    "
   ]
  },
  {
   "cell_type": "code",
   "execution_count": 38,
   "id": "2bf2681d",
   "metadata": {},
   "outputs": [
    {
     "name": "stdout",
     "output_type": "stream",
     "text": [
      "start seite\n",
      "resize\n",
      "resize\n",
      "resize\n",
      "resize\n",
      "resize\n",
      "resize\n",
      "resize\n"
     ]
    }
   ],
   "source": [
    "max_width = 500\n",
    "max_heigh = 650\n",
    "\n",
    "writer = PdfFileMerger()\n",
    "\n",
    "print(\"start seite\")\n",
    "pdf = FPDF()\n",
    "pdf.add_page()\n",
    "pdf.set_font('Arial', '', 50)\n",
    "pdf.write(50, f\"\\nxkcd comics\")\n",
    "pdf.output(os.path.join(download_folder, \"Start_page.pdf\"))\n",
    "\n",
    "writer.append(PdfFileReader(open(os.path.join(download_folder, \"Start_page.pdf\"), \"rb\")))\n",
    "\n",
    "for index, image in enumerate(os.listdir(download_folder)):\n",
    "    if image.endswith(\"png\"):\n",
    "        image2 = Image.open(os.path.join(download_folder, image))\n",
    "        x,y,w,h = image2.getbbox()\n",
    "        if w > max_width or h > max_heigh:\n",
    "            print(\"resize\")\n",
    "            image2.thumbnail((max_width, max_heigh), Image.ANTIALIAS)\n",
    "            image2.save(os.path.join(download_folder, image))\n",
    "            image2.close()\n",
    "\n",
    "        pdf = FPDF()\n",
    "        pdf.add_page()\n",
    "        pdf.set_font('Arial', '', 30)\n",
    "        pdf.write(10, f'{index+1} - {image[:-4].replace(\"_\", \" \")}')\n",
    "        pdf.image(os.path.join(download_folder, image), 10,50)\n",
    "        pdf_file_name = f'{image[:-4]}.png'\n",
    "        pdf.output(os.path.join(download_folder, pdf_file_name))\n",
    "\n",
    "        writer.append(PdfFileReader(open(os.path.join(download_folder, pdf_file_name), \"rb\")))\n",
    "\n",
    "writer.write(\"comics.pdf\")\n",
    "        \n",
    "        \n",
    "        \n",
    "        \n",
    "        \n",
    "        \n",
    "        \n",
    "        \n",
    "        \n",
    "        \n",
    "\n",
    "\n",
    "\n",
    "\n"
   ]
  },
  {
   "cell_type": "code",
   "execution_count": null,
   "id": "e87297ed",
   "metadata": {},
   "outputs": [],
   "source": [
    "\n",
    "\n",
    "\n",
    "\n",
    "\n",
    "\n"
   ]
  }
 ],
 "metadata": {
  "kernelspec": {
   "display_name": "Python 3",
   "language": "python",
   "name": "python3"
  },
  "language_info": {
   "codemirror_mode": {
    "name": "ipython",
    "version": 3
   },
   "file_extension": ".py",
   "mimetype": "text/x-python",
   "name": "python",
   "nbconvert_exporter": "python",
   "pygments_lexer": "ipython3",
   "version": "3.7.3"
  }
 },
 "nbformat": 4,
 "nbformat_minor": 5
}
